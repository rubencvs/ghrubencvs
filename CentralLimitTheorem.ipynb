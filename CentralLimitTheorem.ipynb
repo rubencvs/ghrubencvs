{
 "cells": [
  {
   "cell_type": "code",
   "execution_count": 1,
   "metadata": {},
   "outputs": [],
   "source": [
    "import matplotlib.pyplot as plt\n",
    "import random\n",
    "X = []\n",
    "for i in range(0,300):\n",
    "    v = random.randint(0,50)\n",
    "    X.append(v)\n",
    "    "
   ]
  },
  {
   "cell_type": "code",
   "execution_count": 2,
   "metadata": {},
   "outputs": [
    {
     "data": {
      "text/plain": [
       "(array([ 6.,  4.,  7.,  5.,  7.,  6.,  5.,  9.,  8.,  4.,  5.,  8.,  2.,\n",
       "         8.,  5.,  3.,  5.,  5.,  4.,  3.,  5.,  6.,  7.,  8.,  5.,  4.,\n",
       "         8.,  7.,  6.,  8.,  9.,  6.,  7.,  6.,  5.,  5.,  7.,  5.,  8.,\n",
       "         5.,  6.,  2.,  2.,  8.,  5., 10.,  4.,  6., 10., 11.]),\n",
       " array([ 0.,  1.,  2.,  3.,  4.,  5.,  6.,  7.,  8.,  9., 10., 11., 12.,\n",
       "        13., 14., 15., 16., 17., 18., 19., 20., 21., 22., 23., 24., 25.,\n",
       "        26., 27., 28., 29., 30., 31., 32., 33., 34., 35., 36., 37., 38.,\n",
       "        39., 40., 41., 42., 43., 44., 45., 46., 47., 48., 49., 50.]),\n",
       " <a list of 50 Patch objects>)"
      ]
     },
     "execution_count": 2,
     "metadata": {},
     "output_type": "execute_result"
    },
    {
     "data": {
      "image/png": "[encoded data removed]",
      "text/plain": [
       "<Figure size 700x500 with 1 Axes>"
      ]
     },
     "metadata": {
      "needs_background": "light"
     },
     "output_type": "display_data"
    }
   ],
   "source": [
    "plt.rcParams.update({'figure.figsize':(7,5), 'figure.dpi':100})\n",
    "plt.hist(X, bins = 50)"
   ]
  },
  {
   "cell_type": "code",
   "execution_count": 5,
   "metadata": {},
   "outputs": [],
   "source": [
    "import numpy as np\n",
    "means = []\n",
    "for i in range(0,10000):\n",
    "    sample = []\n",
    "    \n",
    "    for ii in range(0,35):\n",
    "        v = random.choice(X)\n",
    "        sample.append(v)\n",
    "        \n",
    "    mean = np.mean(sample)\n",
    "    means.append(mean)"
   ]
  },
  {
   "cell_type": "code",
   "execution_count": 6,
   "metadata": {},
   "outputs": [
    {
     "data": {
      "text/plain": [
       "(array([  2.,   0.,   3.,   1.,   3.,   8.,  13.,  12.,  22.,  26.,  57.,\n",
       "         78., 109., 136., 155., 219., 264., 308., 368., 405., 487., 517.,\n",
       "        581., 560., 564., 654., 587., 591., 572., 441., 384., 393., 313.,\n",
       "        242., 233., 195., 142.,  95.,  85.,  61.,  40.,  27.,  14.,  16.,\n",
       "          4.,   3.,   3.,   5.,   1.,   1.]),\n",
       " array([15.77142857, 16.152     , 16.53257143, 16.91314286, 17.29371429,\n",
       "        17.67428571, 18.05485714, 18.43542857, 18.816     , 19.19657143,\n",
       "        19.57714286, 19.95771429, 20.33828571, 20.71885714, 21.09942857,\n",
       "        21.48      , 21.86057143, 22.24114286, 22.62171429, 23.00228571,\n",
       "        23.38285714, 23.76342857, 24.144     , 24.52457143, 24.90514286,\n",
       "        25.28571429, 25.66628571, 26.04685714, 26.42742857, 26.808     ,\n",
       "        27.18857143, 27.56914286, 27.94971429, 28.33028571, 28.71085714,\n",
       "        29.09142857, 29.472     , 29.85257143, 30.23314286, 30.61371429,\n",
       "        30.99428571, 31.37485714, 31.75542857, 32.136     , 32.51657143,\n",
       "        32.89714286, 33.27771429, 33.65828571, 34.03885714, 34.41942857,\n",
       "        34.8       ]),\n",
       " <a list of 50 Patch objects>)"
      ]
     },
     "execution_count": 6,
     "metadata": {},
     "output_type": "execute_result"
    },
    {
     "data": {
      "image/png": "[encoded data removed]",
      "text/plain": [
       "<Figure size 700x500 with 1 Axes>"
      ]
     },
     "metadata": {
      "needs_background": "light"
     },
     "output_type": "display_data"
    }
   ],
   "source": [
    "plt.rcParams.update({'figure.figsize':(7,5), 'figure.dpi':100})\n",
    "plt.hist(means, bins = 50)"
   ]
  },
  {
   "cell_type": "code",
   "execution_count": 8,
   "metadata": {},
   "outputs": [
    {
     "name": "stdout",
     "output_type": "stream",
     "text": [
      "0.00704503059387207\n"
     ]
    }
   ],
   "source": [
    "import time\n",
    "start_time = time.time()\n",
    "\n",
    "total = 0\n",
    "for i in range(50000):\n",
    "    total = total + i\n",
    "\n",
    "# elapsed time\n",
    "elapsed_time = time.time() - start_time\n",
    "print(elapsed_time)"
   ]
  },
  {
   "cell_type": "code",
   "execution_count": 25,
   "metadata": {},
   "outputs": [
    {
     "name": "stdout",
     "output_type": "stream",
     "text": [
      "hola\n"
     ]
    }
   ],
   "source": [
    "print(\"hola\")"
   ]
  },
  {
   "cell_type": "code",
   "execution_count": 26,
   "metadata": {},
   "outputs": [
    {
     "name": "stdout",
     "output_type": "stream",
     "text": [
      "hola 2\n"
     ]
    }
   ],
   "source": [
    "print(\"hola 2\")"
   ]
  },
  {
   "cell_type": "code",
   "execution_count": null,
   "metadata": {},
   "outputs": [],
   "source": []
  }
 ],
 "metadata": {
  "kernelspec": {
   "display_name": "Python 3",
   "language": "python",
   "name": "python3"
  },
  "language_info": {
   "codemirror_mode": {
    "name": "ipython",
    "version": 3
   },
   "file_extension": ".py",
   "mimetype": "text/x-python",
   "name": "python",
   "nbconvert_exporter": "python",
   "pygments_lexer": "ipython3",
   "version": "3.7.4"
  }
 },
 "nbformat": 4,
 "nbformat_minor": 2
}
